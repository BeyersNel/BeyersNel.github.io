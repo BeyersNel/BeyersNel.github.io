{
  "nbformat": 4,
  "nbformat_minor": 0,
  "metadata": {
    "colab": {
      "name": "rainfall_data.ipynb",
      "version": "0.3.2",
      "provenance": [],
      "collapsed_sections": [],
      "include_colab_link": true
    },
    "kernelspec": {
      "display_name": "Python 3",
      "language": "python",
      "name": "python3"
    }
  },
  "cells": [
    {
      "cell_type": "markdown",
      "metadata": {
        "id": "view-in-github",
        "colab_type": "text"
      },
      "source": [
        "<a href=\"https://colab.research.google.com/github/BeyersNel/BeyersNel.github.io/blob/master/rainfall_data.ipynb\" target=\"_parent\"><img src=\"https://colab.research.google.com/assets/colab-badge.svg\" alt=\"Open In Colab\"/></a>"
      ]
    },
    {
      "metadata": {
        "id": "mTBZhbYaFKuo",
        "colab_type": "code",
        "colab": {}
      },
      "cell_type": "code",
      "source": [
        "import pandas as pd\n",
        "import numpy as np"
      ],
      "execution_count": 0,
      "outputs": []
    },
    {
      "metadata": {
        "scrolled": false,
        "id": "J58xXEknFKut",
        "colab_type": "code",
        "outputId": "50fac62d-14d0-464c-c11c-865371ed873b",
        "colab": {
          "base_uri": "https://localhost:8080/",
          "height": 235
        }
      },
      "cell_type": "code",
      "source": [
        "dataRootUrl = 'https://raw.githubusercontent.com/BeyersNel/edsa-water-project/master/data/'\n",
        "dfDam = pd.read_csv(dataRootUrl+'dam.csv', index_col='id')\n",
        "dfRainfall = pd.read_csv(dataRootUrl+'rainfall.csv')\n",
        "dfDam.head()"
      ],
      "execution_count": 0,
      "outputs": [
        {
          "output_type": "execute_result",
          "data": {
            "text/html": [
              "<div>\n",
              "<style scoped>\n",
              "    .dataframe tbody tr th:only-of-type {\n",
              "        vertical-align: middle;\n",
              "    }\n",
              "\n",
              "    .dataframe tbody tr th {\n",
              "        vertical-align: top;\n",
              "    }\n",
              "\n",
              "    .dataframe thead th {\n",
              "        text-align: right;\n",
              "    }\n",
              "</style>\n",
              "<table border=\"1\" class=\"dataframe\">\n",
              "  <thead>\n",
              "    <tr style=\"text-align: right;\">\n",
              "      <th></th>\n",
              "      <th>name</th>\n",
              "      <th>latitude</th>\n",
              "      <th>longitude</th>\n",
              "    </tr>\n",
              "    <tr>\n",
              "      <th>id</th>\n",
              "      <th></th>\n",
              "      <th></th>\n",
              "      <th></th>\n",
              "    </tr>\n",
              "  </thead>\n",
              "  <tbody>\n",
              "    <tr>\n",
              "      <th>1</th>\n",
              "      <td>STEENBRAS LOWER</td>\n",
              "      <td>-34.180527</td>\n",
              "      <td>18.866688</td>\n",
              "    </tr>\n",
              "    <tr>\n",
              "      <th>2</th>\n",
              "      <td>DE VILLIERS</td>\n",
              "      <td>-33.992584</td>\n",
              "      <td>18.411166</td>\n",
              "    </tr>\n",
              "    <tr>\n",
              "      <th>3</th>\n",
              "      <td>BIG 6</td>\n",
              "      <td>-33.982100</td>\n",
              "      <td>18.696134</td>\n",
              "    </tr>\n",
              "    <tr>\n",
              "      <th>4</th>\n",
              "      <td>WOODHEAD</td>\n",
              "      <td>-33.977341</td>\n",
              "      <td>18.404046</td>\n",
              "    </tr>\n",
              "    <tr>\n",
              "      <th>5</th>\n",
              "      <td>STEENBRAS UPPER</td>\n",
              "      <td>-34.166702</td>\n",
              "      <td>18.909760</td>\n",
              "    </tr>\n",
              "  </tbody>\n",
              "</table>\n",
              "</div>"
            ],
            "text/plain": [
              "               name   latitude  longitude\n",
              "id                                       \n",
              "1   STEENBRAS LOWER -34.180527  18.866688\n",
              "2       DE VILLIERS -33.992584  18.411166\n",
              "3             BIG 6 -33.982100  18.696134\n",
              "4          WOODHEAD -33.977341  18.404046\n",
              "5   STEENBRAS UPPER -34.166702  18.909760"
            ]
          },
          "metadata": {
            "tags": []
          },
          "execution_count": 25
        }
      ]
    },
    {
      "metadata": {
        "id": "FQvlPGePKYvC",
        "colab_type": "text"
      },
      "cell_type": "markdown",
      "source": [
        "# TESTING"
      ]
    },
    {
      "metadata": {
        "id": "Vot42x7UKaWQ",
        "colab_type": "code",
        "colab": {}
      },
      "cell_type": "code",
      "source": [
        ""
      ],
      "execution_count": 0,
      "outputs": []
    }
  ]
}