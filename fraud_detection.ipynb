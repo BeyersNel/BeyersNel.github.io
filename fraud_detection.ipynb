{
  "nbformat": 4,
  "nbformat_minor": 0,
  "metadata": {
    "colab": {
      "name": "fraud_detection.ipynb",
      "version": "0.3.2",
      "provenance": [],
      "collapsed_sections": [],
      "include_colab_link": true
    },
    "language_info": {
      "codemirror_mode": {
        "name": "ipython",
        "version": 3
      },
      "file_extension": ".py",
      "mimetype": "text/x-python",
      "name": "python",
      "nbconvert_exporter": "python",
      "pygments_lexer": "ipython3",
      "version": "3.7.2"
    },
    "kernelspec": {
      "display_name": "Python 3",
      "language": "python",
      "name": "python3"
    }
  },
  "cells": [
    {
      "cell_type": "markdown",
      "metadata": {
        "id": "view-in-github",
        "colab_type": "text"
      },
      "source": [
        "<a href=\"https://colab.research.google.com/github/BeyersNel/BeyersNel.github.io/blob/master/fraud_detection.ipynb\" target=\"_parent\"><img src=\"https://colab.research.google.com/assets/colab-badge.svg\" alt=\"Open In Colab\"/></a>"
      ]
    },
    {
      "cell_type": "code",
      "metadata": {
        "id": "Y0PTmAhtmd_7",
        "colab_type": "code",
        "colab": {}
      },
      "source": [
        "import numpy as np\n",
        "import pandas as pd\n",
        "\n",
        "from pylab import rcParams\n",
        "from matplotlib.pyplot import *\n",
        "import matplotlib.pyplot as plt\n",
        "import seaborn as sns\n",
        "import re\n",
        "\n",
        "%matplotlib inline\n",
        "rcParams['figure.figsize'] = 10, 8\n",
        "sns.set_style('whitegrid')\n",
        "\n",
        "import sklearn\n",
        "from sklearn import preprocessing\n",
        "from sklearn.linear_model import LogisticRegression\n",
        "from sklearn.model_selection import train_test_split, cross_val_score\n",
        "\n",
        "from sklearn import metrics \n",
        "from sklearn.metrics import log_loss, classification_report, make_scorer\n",
        "\n",
        "from sklearn.feature_extraction.text import CountVectorizer\n",
        "from sklearn.svm import SVC\n",
        "\n",
        "import nltk\n",
        "from nltk import SnowballStemmer\n",
        "from nltk.stem import WordNetLemmatizer\n",
        "from nltk.corpus import wordnet\n",
        "from nltk.tokenize import word_tokenize, sent_tokenize, TreebankWordTokenizer\n",
        "\n",
        "import string\n",
        "\n",
        "from datetime import datetime\n",
        "\n",
        "from sklearn.model_selection import GridSearchCV\n",
        "\n",
        "from sklearn.ensemble import RandomForestClassifier\n",
        "from datetime import datetime\n",
        "from sklearn.metrics import f1_score\n",
        "from sklearn.metrics import confusion_matrix"
      ],
      "execution_count": 0,
      "outputs": []
    },
    {
      "cell_type": "code",
      "metadata": {
        "id": "ODpZIP_mmeAA",
        "colab_type": "code",
        "colab": {}
      },
      "source": [
        "sample = pd.read_csv('sample_submission.csv')\n",
        "train = pd.read_csv('training.csv')\n",
        "test = pd.read_csv('test.csv')"
      ],
      "execution_count": 0,
      "outputs": []
    },
    {
      "cell_type": "code",
      "metadata": {
        "id": "KO6-oHbsmeAD",
        "colab_type": "code",
        "colab": {},
        "outputId": "7c98cc5b-4717-4acb-e54e-8cc2464042c0"
      },
      "source": [
        "train.shape"
      ],
      "execution_count": 0,
      "outputs": [
        {
          "output_type": "execute_result",
          "data": {
            "text/plain": [
              "(95662, 16)"
            ]
          },
          "metadata": {
            "tags": []
          },
          "execution_count": 4
        }
      ]
    },
    {
      "cell_type": "code",
      "metadata": {
        "id": "5oxHTbrbmeAJ",
        "colab_type": "code",
        "colab": {},
        "outputId": "81dfcc64-5c5d-4903-fa90-e330109c73f2"
      },
      "source": [
        "test.shape"
      ],
      "execution_count": 0,
      "outputs": [
        {
          "output_type": "execute_result",
          "data": {
            "text/plain": [
              "(45019, 15)"
            ]
          },
          "metadata": {
            "tags": []
          },
          "execution_count": 5
        }
      ]
    },
    {
      "cell_type": "code",
      "metadata": {
        "scrolled": true,
        "id": "oF5eWBFQmeAN",
        "colab_type": "code",
        "colab": {},
        "outputId": "0681a136-49db-440f-d165-875b99748618"
      },
      "source": [
        "train.columns"
      ],
      "execution_count": 0,
      "outputs": [
        {
          "output_type": "execute_result",
          "data": {
            "text/plain": [
              "Index(['TransactionId', 'BatchId', 'AccountId', 'SubscriptionId', 'CustomerId',\n",
              "       'CurrencyCode', 'CountryCode', 'ProviderId', 'ProductId',\n",
              "       'ProductCategory', 'ChannelId', 'Amount', 'Value',\n",
              "       'TransactionStartTime', 'PricingStrategy', 'FraudResult'],\n",
              "      dtype='object')"
            ]
          },
          "metadata": {
            "tags": []
          },
          "execution_count": 6
        }
      ]
    },
    {
      "cell_type": "code",
      "metadata": {
        "id": "cdPzgSukmeAQ",
        "colab_type": "code",
        "colab": {}
      },
      "source": [
        "# train_fraud = train[train['FraudResult'] == 1]\n",
        "# train_regular = train[train['FraudResult'] == 0]\n",
        "# regular_pick = np.random.choice(train_regular.index, 90000, replace=False)\n",
        "# train_regular_subset = train_regular.drop(regular_pick)\n",
        "# train_regular_subset.shape"
      ],
      "execution_count": 0,
      "outputs": []
    },
    {
      "cell_type": "code",
      "metadata": {
        "id": "-dMWzoJ8meAT",
        "colab_type": "code",
        "colab": {}
      },
      "source": [
        "# train_regular_subset = train_regular_subset.reset_index(drop=True)\n",
        "# train_fraud = train_fraud.reset_index(drop=True)\n",
        "test = test.reset_index(drop=True)"
      ],
      "execution_count": 0,
      "outputs": []
    },
    {
      "cell_type": "code",
      "metadata": {
        "id": "0D7XX79fmeAW",
        "colab_type": "code",
        "colab": {}
      },
      "source": [
        "# train = pd.concat([train_regular_subset, train_fraud], sort=False, axis=0)\n",
        "train = pd.concat([train, test], sort=False, axis=0)"
      ],
      "execution_count": 0,
      "outputs": []
    },
    {
      "cell_type": "code",
      "metadata": {
        "id": "UZAcUOVgmeAY",
        "colab_type": "code",
        "colab": {},
        "outputId": "a195885b-ff70-47dc-ec61-bc17c6487e9c"
      },
      "source": [
        "train.shape"
      ],
      "execution_count": 0,
      "outputs": [
        {
          "output_type": "execute_result",
          "data": {
            "text/plain": [
              "(140681, 16)"
            ]
          },
          "metadata": {
            "tags": []
          },
          "execution_count": 10
        }
      ]
    },
    {
      "cell_type": "code",
      "metadata": {
        "id": "pL0-JS0TmeAd",
        "colab_type": "code",
        "colab": {}
      },
      "source": [
        "def getTimeData(ps):\n",
        "    df = pd.DataFrame()\n",
        "    df['time'] = ps.apply(lambda x: datetime.strptime(x.split(':')[0],'%Y-%m-%dT%H'))\n",
        "    df['weekday'] = df['time'].apply(lambda x: x.weekday())\n",
        "    df['year'] = df['time'].apply(lambda x: x.year)\n",
        "    df['month'] = df['time'].apply(lambda x: x.month)\n",
        "    df['hour'] = df['time'].apply(lambda x: x.hour)\n",
        "    return df.drop('time', axis=1);"
      ],
      "execution_count": 0,
      "outputs": []
    },
    {
      "cell_type": "code",
      "metadata": {
        "id": "fZ1jO4-dmeAg",
        "colab_type": "code",
        "colab": {}
      },
      "source": [
        "df = pd.concat([train, getTimeData(train['TransactionStartTime'])], sort=False, axis=1)\n",
        "df = df.drop('TransactionStartTime', axis=1)"
      ],
      "execution_count": 0,
      "outputs": []
    },
    {
      "cell_type": "code",
      "metadata": {
        "id": "qonRhHd-meAj",
        "colab_type": "code",
        "colab": {}
      },
      "source": [
        "TransactionId = df['TransactionId']\n",
        "BatchId = df['BatchId']\n",
        "AccountId = df['AccountId']\n",
        "SubscriptionId = df['SubscriptionId']\n",
        "CustomerId = df['CustomerId']\n",
        "\n",
        "df = df.drop('TransactionId', axis=1)\n",
        "df = df.drop('BatchId', axis=1)\n",
        "df = df.drop('AccountId', axis=1)\n",
        "df = df.drop('SubscriptionId', axis=1)\n",
        "df = df.drop('CustomerId', axis=1)"
      ],
      "execution_count": 0,
      "outputs": []
    },
    {
      "cell_type": "code",
      "metadata": {
        "id": "75S634PJmeAm",
        "colab_type": "code",
        "colab": {}
      },
      "source": [
        "df_dummies = pd.get_dummies(df)"
      ],
      "execution_count": 0,
      "outputs": []
    },
    {
      "cell_type": "code",
      "metadata": {
        "id": "TmFIuQNPmeAo",
        "colab_type": "code",
        "colab": {}
      },
      "source": [
        "y = df_dummies['FraudResult']\n",
        "X = df_dummies.drop(['FraudResult'], axis=1)"
      ],
      "execution_count": 0,
      "outputs": []
    },
    {
      "cell_type": "code",
      "metadata": {
        "id": "rUG_NN15meAq",
        "colab_type": "code",
        "colab": {}
      },
      "source": [
        "# X_train, X_test, y_train, y_test = train_test_split(X, y, test_size=0.2, random_state=42)\n",
        "\n",
        "X_train = X[:-len(test)]\n",
        "y_train = y[:-len(test)]\n",
        "X_test = X[-len(test):]\n",
        "\n",
        "X_train = np.array(X_train)\n",
        "X_test = np.array(X_test)\n",
        "y_train = np.array(y_train)\n",
        "# y_test = np.array(y_test)"
      ],
      "execution_count": 0,
      "outputs": []
    },
    {
      "cell_type": "code",
      "metadata": {
        "id": "eIu3s1lRmeAt",
        "colab_type": "code",
        "colab": {}
      },
      "source": [
        "# [correctly false, incorrectly true]\n",
        "# [incorrectly false, correctly true]"
      ],
      "execution_count": 0,
      "outputs": []
    },
    {
      "cell_type": "code",
      "metadata": {
        "id": "GiI9qHQxmeAv",
        "colab_type": "code",
        "colab": {}
      },
      "source": [
        "# parameters\n",
        "# clf = GridSearchCV(SVC(), parameters, cv=3, iid=True)"
      ],
      "execution_count": 0,
      "outputs": []
    },
    {
      "cell_type": "code",
      "metadata": {
        "id": "H85Jn4HMmeAy",
        "colab_type": "code",
        "colab": {}
      },
      "source": [
        "from sklearn.svm import SVC"
      ],
      "execution_count": 0,
      "outputs": []
    },
    {
      "cell_type": "code",
      "metadata": {
        "id": "-7qSg5kMmeA2",
        "colab_type": "code",
        "colab": {}
      },
      "source": [
        "def doLogReg(X_train, y_train, X_test, C, solver):\n",
        "    logreg = LogisticRegression(C=C, solver=solver, random_state=42)\n",
        "    logreg.fit(X_train, y_train)\n",
        "    return logreg.predict(X_test)"
      ],
      "execution_count": 0,
      "outputs": []
    },
    {
      "cell_type": "code",
      "metadata": {
        "id": "BdqcTXPDmeA5",
        "colab_type": "code",
        "colab": {}
      },
      "source": [
        "def runLogReg(X_train, y_train, X_test):\n",
        "    results = []\n",
        "    C = 0.0001\n",
        "    for i in list(range(0,4)):\n",
        "        for solver in ['newton-cg', 'lbfgs', 'liblinear', 'sag', 'saga']:\n",
        "            results.append(doLogReg(X_train, y_train, X_test, C=C, solver=solver))\n",
        "        C = C*100\n",
        "    return results"
      ],
      "execution_count": 0,
      "outputs": []
    },
    {
      "cell_type": "code",
      "metadata": {
        "id": "2PlvDPyOmeA8",
        "colab_type": "code",
        "colab": {}
      },
      "source": [
        "def doSVC(X_train, y_train, X_test, C, kernel):\n",
        "    clf = SVC(gamma='auto', C=C, kernel=kernel)\n",
        "    clf.fit(X_train, y_train)\n",
        "    return clf.predict(X_test)"
      ],
      "execution_count": 0,
      "outputs": []
    },
    {
      "cell_type": "code",
      "metadata": {
        "id": "I8C9jBW0meBB",
        "colab_type": "code",
        "colab": {}
      },
      "source": [
        "def runSVC(X_train, y_train, X_test):\n",
        "    results = []\n",
        "    C = 0.0001\n",
        "    for i in list(range(0,4)):\n",
        "        for solver in ['linear', 'poly', 'rbf', 'sigmoid', 'precomputed']:\n",
        "            print(f'{solver} {C}')\n",
        "            results.append(doSVC(X_train, y_train, X_test, C=C, kernel=solver))\n",
        "        C = C*100\n",
        "    return results"
      ],
      "execution_count": 0,
      "outputs": []
    },
    {
      "cell_type": "code",
      "metadata": {
        "id": "oK_8QuWgmeBD",
        "colab_type": "code",
        "colab": {}
      },
      "source": [
        "import warnings\n",
        "warnings.filterwarnings(\"ignore\", message=\"lbfgs failed to converge. Increase the number of iterations.\")\n",
        "warnings.filterwarnings(\"ignore\", message=\"The max_iter was reached which means the coef_ did not converge\")\n",
        "warnings.filterwarnings(\"ignore\", message=\"The line search algorithm did not converge\")\n",
        "warnings.filterwarnings(\"ignore\", message=\"Line Search failed\")\n",
        "warnings.filterwarnings(\"ignore\", message=\"Rounding errors prevent the line search from converging\")\n",
        "warnings.filterwarnings(\"ignore\", message=\"newton-cg failed to converge. Increase the number of iterations.\")"
      ],
      "execution_count": 0,
      "outputs": []
    },
    {
      "cell_type": "code",
      "metadata": {
        "id": "wd2dfNTjmeBF",
        "colab_type": "code",
        "colab": {}
      },
      "source": [
        "# logReg_results = runLogReg(X_train, y_train, X_test)"
      ],
      "execution_count": 0,
      "outputs": []
    },
    {
      "cell_type": "code",
      "metadata": {
        "id": "ZAliDC7ImeBI",
        "colab_type": "code",
        "colab": {}
      },
      "source": [
        "# results_sum = np.array(logReg_results).sum(axis=0)\n",
        "# np.place(results_sum, results_sum > 1, 1)"
      ],
      "execution_count": 0,
      "outputs": []
    },
    {
      "cell_type": "code",
      "metadata": {
        "id": "X9GJ6OJKmeBL",
        "colab_type": "code",
        "colab": {}
      },
      "source": [
        "clf = SVC(gamma='auto')\n",
        "clf.fit(X_train, y_train)\n",
        "svc_pred = clf.predict(X_test)"
      ],
      "execution_count": 0,
      "outputs": []
    },
    {
      "cell_type": "code",
      "metadata": {
        "id": "-YdyKRNemeBP",
        "colab_type": "code",
        "colab": {}
      },
      "source": [
        "# combined = svc_pred + results_sum\n",
        "# np.place(combined, combined > 1, 1)"
      ],
      "execution_count": 0,
      "outputs": []
    },
    {
      "cell_type": "code",
      "metadata": {
        "id": "tVFm5RK7meBR",
        "colab_type": "code",
        "colab": {}
      },
      "source": [
        "# from sklearn.metrics import f1_score\n",
        "# f1_score(y_test, svc_pred, average='macro')"
      ],
      "execution_count": 0,
      "outputs": []
    },
    {
      "cell_type": "code",
      "metadata": {
        "id": "MMUANfBmmeBU",
        "colab_type": "code",
        "colab": {}
      },
      "source": [
        "# confusion_matrix(y_test, svc_pred)"
      ],
      "execution_count": 0,
      "outputs": []
    },
    {
      "cell_type": "code",
      "metadata": {
        "id": "W5tM1dj3meBX",
        "colab_type": "code",
        "colab": {}
      },
      "source": [
        "df = pd.DataFrame(test['TransactionId'])\n",
        "df['FraudResult'] = svc_pred.astype(int)\n",
        "df.to_csv('./submission.csv', index=False)"
      ],
      "execution_count": 0,
      "outputs": []
    },
    {
      "cell_type": "code",
      "metadata": {
        "id": "60NGleXKmeBa",
        "colab_type": "code",
        "colab": {}
      },
      "source": [
        "df.to_csv('./submission.csv', index=False)"
      ],
      "execution_count": 0,
      "outputs": []
    },
    {
      "cell_type": "code",
      "metadata": {
        "id": "SM3knaWmmeBe",
        "colab_type": "code",
        "colab": {}
      },
      "source": [
        "# confusion_matrix(y_test, logReg_results)"
      ],
      "execution_count": 0,
      "outputs": []
    },
    {
      "cell_type": "code",
      "metadata": {
        "id": "rzezhyT2meBg",
        "colab_type": "code",
        "colab": {}
      },
      "source": [
        "# def logLossScorer(y_true, y_pred):\n",
        "#     X = confusion_matrix(y_test, logreg_y_pred)\n",
        "#     return log_loss(y_true, y_pred)\n",
        "\n",
        "# cross_val_score(regressor, X, y, cv=5, scoring=scorer).mean()"
      ],
      "execution_count": 0,
      "outputs": []
    }
  ]
}